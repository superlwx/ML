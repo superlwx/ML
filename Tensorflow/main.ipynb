{
 "cells": [
  {
   "cell_type": "code",
   "execution_count": 1,
   "metadata": {},
   "outputs": [],
   "source": [
    "import numpy as np\n",
    "import h5py\n",
    "import matplotlib.pyplot as plt\n",
    "import tensorflow as tf\n",
    "from tensorflow.python.framework import ops\n",
    "import tf_utils\n",
    "import time"
   ]
  },
  {
   "cell_type": "code",
   "execution_count": 2,
   "metadata": {},
   "outputs": [],
   "source": [
    "def test():\n",
    "    y_hat=tf.constant(36,name=\"y_hat\")\n",
    "    y=tf.constant(39,name=\"y\")\n",
    "    loss=tf.Variable((y-y_hat)**2,name=\"loss\")\n",
    "    init=tf.global_variables_initializer()\n",
    "    with tf.Session()as session:\n",
    "        session.run(init)\n",
    "        print(session.run(loss))\n",
    "    session.close()"
   ]
  },
  {
   "cell_type": "code",
   "execution_count": 3,
   "metadata": {},
   "outputs": [],
   "source": [
    "def linear_function():\n",
    "    np.random.seed(1)\n",
    "    W=np.random.randn(4,3)\n",
    "    X=np.random.randn(3,1)\n",
    "    b=np.random.randn(4,1)\n",
    "    c=tf.add(tf.matmul(W,X),b)\n",
    "    session=tf.Session()\n",
    "    print(session.run(c))\n",
    "    session.close()"
   ]
  },
  {
   "cell_type": "code",
   "execution_count": 4,
   "metadata": {},
   "outputs": [],
   "source": [
    "def one_hot_matrix(lables,C):\n",
    "    C=tf.constant(C,name=\"C\")\n",
    "    one_hot_matrix=tf.one_hot(indices=lables,depth=C,axis=0)\n",
    "    session=tf.Session()\n",
    "    one_hot=session.run(one_hot_matrix)\n",
    "    session.close()\n",
    "    return one_hot"
   ]
  },
  {
   "cell_type": "code",
   "execution_count": null,
   "metadata": {},
   "outputs": [],
   "source": []
  },
  {
   "cell_type": "code",
   "execution_count": 5,
   "metadata": {},
   "outputs": [],
   "source": [
    "def create_placeholders(n_x,n_y):\n",
    "    X = tf.placeholder(tf.float32, [n_x, None], name=\"X\")\n",
    "    Y = tf.placeholder(tf.float32, [n_y, None], name=\"Y\")\n",
    "    return X,Y"
   ]
  },
  {
   "cell_type": "code",
   "execution_count": 6,
   "metadata": {},
   "outputs": [],
   "source": [
    "def random_mini_batches(X,Y,mini_batch_size=64,seed=0):\n",
    "    np.random.seed(seed)\n",
    "    m=X.shape[1]\n",
    "    batches_complete_size=math.floor(m/mini_batch_size)\n",
    "    permutation=list(np.random.permutation(m))\n",
    "    mini_batchs=[]\n",
    "    batch_X=X[:,permutation]\n",
    "    batch_Y=Y[:,permutation].reshape[1,m]\n",
    "    for k in range(batches_complete_size):\n",
    "        mini_batch_X=batch_X[:,k*mini_batch_size:(k+1)*mini_batch_size]\n",
    "        mini_batch_Y=batch_Y[:,k*mini_batch_size:(k+1)*mini_batch_size]\n",
    "        mini_batch=(mini_batch_X,mini_batch_Y)\n",
    "        mini_batchs.append(mini_batch)\n",
    "    if m%mini_batch_size!=0:\n",
    "        mini_batch_X=batch_X[:,batches_complete_size*mini_batch_size:m]\n",
    "        mini_batch_Y=batch_Y[:,batches_complete_size*mini_batch_size:m]\n",
    "        mini_batch=(mini_batch_X,mini_batch_Y)\n",
    "        mini_batchs.append(mini_batch)\n",
    "    return mini_batchs"
   ]
  },
  {
   "cell_type": "code",
   "execution_count": 7,
   "metadata": {},
   "outputs": [],
   "source": [
    "def initialize_parameters():\n",
    "    tf.set_random_seed(1)\n",
    "    W1 = tf.get_variable(\"W1\",[25,12288],initializer=tf.contrib.layers.xavier_initializer(seed=1))\n",
    "    b1 = tf.get_variable(\"b1\",[25,1],initializer=tf.zeros_initializer())\n",
    "    W2 = tf.get_variable(\"W2\", [12, 25], initializer = tf.contrib.layers.xavier_initializer(seed=1))\n",
    "    b2 = tf.get_variable(\"b2\", [12, 1], initializer = tf.zeros_initializer())\n",
    "    W3 = tf.get_variable(\"W3\", [6, 12], initializer = tf.contrib.layers.xavier_initializer(seed=1))\n",
    "    b3 = tf.get_variable(\"b3\", [6, 1], initializer = tf.zeros_initializer())\n",
    "    parameters = {\"W1\": W1,\n",
    "                  \"b1\": b1,\n",
    "                  \"W2\": W2,\n",
    "                  \"b2\": b2,\n",
    "                  \"W3\": W3,\n",
    "                  \"b3\": b3}\n",
    "    return parameters"
   ]
  },
  {
   "cell_type": "code",
   "execution_count": 8,
   "metadata": {},
   "outputs": [],
   "source": [
    "def forward_propagation(X,parameters):\n",
    "    W1=parameters[\"W1\"]\n",
    "    W2=parameters[\"W2\"]\n",
    "    W3=parameters[\"W3\"]\n",
    "    b1=parameters[\"b1\"]\n",
    "    b2=parameters[\"b2\"]\n",
    "    b3=parameters[\"b3\"]\n",
    "    Z1=tf.add(tf.matmul(W1,X),b1)\n",
    "    A1=tf.nn.relu(Z1)\n",
    "    Z2=tf.add(tf.matmul(W2,A1),b2)\n",
    "    A2=tf.nn.relu(Z2)\n",
    "    Z3=tf.add(tf.matmul(W3,A2),b3)\n",
    "    return Z3"
   ]
  },
  {
   "cell_type": "code",
   "execution_count": 9,
   "metadata": {},
   "outputs": [],
   "source": [
    "def compute_cost(Z3,Y):\n",
    "    logits=tf.transpose(Z3)\n",
    "    labels=tf.transpose(Y)\n",
    "    cost=tf.reduce_mean(tf.nn.softmax_cross_entropy_with_logits(logits=logits,labels=labels))\n",
    "    return cost"
   ]
  },
  {
   "cell_type": "code",
   "execution_count": 10,
   "metadata": {},
   "outputs": [],
   "source": [
    "def model(X_train,Y_train,X_test,Y_test,\n",
    "        learning_rate=0.0001,num_epochs=1500,minibatch_size=32,\n",
    "        print_cost=True,is_plot=True):\n",
    "    ops.reset_default_graph() \n",
    "    costs=[]\n",
    "    seed=1\n",
    "    (n_x,m)=X_train.shape\n",
    "    n_y=Y_train.shape[0]\n",
    "    X,Y=create_placeholders(n_x,n_y)\n",
    "    parameter=initialize_parameters()\n",
    "    Z3=forward_propagation(X,parameter)\n",
    "    cost=compute_cost(Z3,Y)\n",
    "    optimizer=tf.train.AdamOptimizer(learning_rate=learning_rate).minimize(cost)\n",
    "    init=tf.global_variables_initializer()\n",
    "    with tf.Session() as session:\n",
    "        session.run(init)\n",
    "        for epoch in range(num_epochs):\n",
    "            num_batches=int(m/minibatch_size)\n",
    "            epoch_cost=0\n",
    "            seed=seed+1\n",
    "            mini_batches=tf_utils.random_mini_batches(X_train,Y_train,minibatch_size,seed)\n",
    "            for batch in mini_batches:\n",
    "                (mini_batch_X,mini_batch_Y)=batch\n",
    "                _,minibatch_cost=session.run([optimizer,cost],feed_dict={X:mini_batch_X,Y:mini_batch_Y})\n",
    "                epoch_cost = epoch_cost + minibatch_cost / num_batches\n",
    "            if epoch % 5 == 0:\n",
    "                costs.append(epoch_cost)\n",
    "                #是否打印：\n",
    "                if print_cost and epoch % 100 == 0:\n",
    "                        print(\"epoch = \" + str(epoch) + \"    epoch_cost = \" + str(epoch_cost))\n",
    "        #是否绘制图谱\n",
    "        if is_plot:\n",
    "            plt.plot(np.squeeze(costs))\n",
    "            plt.ylabel('cost')\n",
    "            plt.xlabel('iterations (per tens)')\n",
    "            plt.title(\"Learning rate =\" + str(learning_rate))\n",
    "            plt.show()\n",
    "         #保存学习后的参数\n",
    "        parameters = session.run(parameter)\n",
    "        print(\"参数已经保存到session。\")\n",
    "\n",
    "        #计算当前的预测结果\n",
    "        correct_prediction = tf.equal(tf.argmax(Z3),tf.argmax(Y))\n",
    "        print(correct_prediction)\n",
    "        #计算准确率\n",
    "        accuracy = tf.reduce_mean(tf.cast(correct_prediction,\"float\"))\n",
    "        \n",
    "        print(\"训练集的准确率：\", accuracy.eval({X: X_train, Y: Y_train}))\n",
    "        print(\"测试集的准确率:\", accuracy.eval({X: X_test, Y: Y_test}))\n",
    "        print(correct_prediction)\n",
    "    return parameters"
   ]
  },
  {
   "cell_type": "code",
   "execution_count": 11,
   "metadata": {},
   "outputs": [
    {
     "name": "stdout",
     "output_type": "stream",
     "text": [
      "[[0. 1. 0. ... 0. 0. 0.]\n",
      " [0. 0. 0. ... 0. 0. 0.]\n",
      " [0. 0. 1. ... 1. 0. 0.]\n",
      " [0. 0. 0. ... 0. 0. 0.]\n",
      " [0. 0. 0. ... 0. 1. 0.]\n",
      " [1. 0. 0. ... 0. 0. 1.]]\n",
      "\n",
      "WARNING: The TensorFlow contrib module will not be included in TensorFlow 2.0.\n",
      "For more information, please see:\n",
      "  * https://github.com/tensorflow/community/blob/master/rfcs/20180907-contrib-sunset.md\n",
      "  * https://github.com/tensorflow/addons\n",
      "If you depend on functionality not listed there, please file an issue.\n",
      "\n",
      "WARNING:tensorflow:From C:\\Users\\admin\\Anaconda3\\envs\\tensorflow\\lib\\site-packages\\tensorflow\\python\\framework\\op_def_library.py:263: colocate_with (from tensorflow.python.framework.ops) is deprecated and will be removed in a future version.\n",
      "Instructions for updating:\n",
      "Colocations handled automatically by placer.\n",
      "WARNING:tensorflow:From <ipython-input-9-3eaa210646da>:4: softmax_cross_entropy_with_logits (from tensorflow.python.ops.nn_ops) is deprecated and will be removed in a future version.\n",
      "Instructions for updating:\n",
      "\n",
      "Future major versions of TensorFlow will allow gradients to flow\n",
      "into the labels input on backprop by default.\n",
      "\n",
      "See `tf.nn.softmax_cross_entropy_with_logits_v2`.\n",
      "\n",
      "epoch = 0    epoch_cost = 1.8484228090806443\n",
      "epoch = 100    epoch_cost = 1.1012501770799812\n",
      "epoch = 200    epoch_cost = 0.7488055265311041\n",
      "epoch = 300    epoch_cost = 0.546511134414962\n",
      "epoch = 400    epoch_cost = 0.38066243809280964\n",
      "epoch = 500    epoch_cost = 0.2561427580587791\n",
      "epoch = 600    epoch_cost = 0.1949320880301071\n",
      "epoch = 700    epoch_cost = 0.14204986280564108\n",
      "epoch = 800    epoch_cost = 0.0873717898220727\n",
      "epoch = 900    epoch_cost = 0.06571303680539131\n",
      "epoch = 1000    epoch_cost = 0.04686638583062271\n",
      "epoch = 1100    epoch_cost = 0.03573996489020912\n",
      "epoch = 1200    epoch_cost = 0.030345592704234696\n",
      "epoch = 1300    epoch_cost = 0.026844092221422627\n",
      "epoch = 1400    epoch_cost = 0.02261632175721003\n"
     ]
    },
    {
     "data": {
      "image/png": "[encoded data removed]",
      "text/plain": [
       "<Figure size 432x288 with 1 Axes>"
      ]
     },
     "metadata": {
      "needs_background": "light"
     },
     "output_type": "display_data"
    },
    {
     "ename": "UnboundLocalError",
     "evalue": "local variable 'parameters' referenced before assignment",
     "output_type": "error",
     "traceback": [
      "\u001b[1;31m---------------------------------------------------------------------------\u001b[0m",
      "\u001b[1;31mUnboundLocalError\u001b[0m                         Traceback (most recent call last)",
      "\u001b[1;32m<ipython-input-11-a7baaf00129e>\u001b[0m in \u001b[0;36m<module>\u001b[1;34m\u001b[0m\n\u001b[0;32m     15\u001b[0m \u001b[0mstart_time\u001b[0m \u001b[1;33m=\u001b[0m \u001b[0mtime\u001b[0m\u001b[1;33m.\u001b[0m\u001b[0mclock\u001b[0m\u001b[1;33m(\u001b[0m\u001b[1;33m)\u001b[0m\u001b[1;33m\u001b[0m\u001b[1;33m\u001b[0m\u001b[0m\n\u001b[0;32m     16\u001b[0m \u001b[1;31m#开始训练\u001b[0m\u001b[1;33m\u001b[0m\u001b[1;33m\u001b[0m\u001b[1;33m\u001b[0m\u001b[0m\n\u001b[1;32m---> 17\u001b[1;33m \u001b[0mparameters\u001b[0m \u001b[1;33m=\u001b[0m \u001b[0mmodel\u001b[0m\u001b[1;33m(\u001b[0m\u001b[0mX_train\u001b[0m\u001b[1;33m,\u001b[0m \u001b[0mY_train\u001b[0m\u001b[1;33m,\u001b[0m \u001b[0mX_test\u001b[0m\u001b[1;33m,\u001b[0m \u001b[0mY_test\u001b[0m\u001b[1;33m)\u001b[0m\u001b[1;33m\u001b[0m\u001b[1;33m\u001b[0m\u001b[0m\n\u001b[0m\u001b[0;32m     18\u001b[0m \u001b[1;31m#结束时间\u001b[0m\u001b[1;33m\u001b[0m\u001b[1;33m\u001b[0m\u001b[1;33m\u001b[0m\u001b[0m\n\u001b[0;32m     19\u001b[0m \u001b[0mend_time\u001b[0m \u001b[1;33m=\u001b[0m \u001b[0mtime\u001b[0m\u001b[1;33m.\u001b[0m\u001b[0mclock\u001b[0m\u001b[1;33m(\u001b[0m\u001b[1;33m)\u001b[0m\u001b[1;33m\u001b[0m\u001b[1;33m\u001b[0m\u001b[0m\n",
      "\u001b[1;32m<ipython-input-10-63a92a934b62>\u001b[0m in \u001b[0;36mmodel\u001b[1;34m(X_train, Y_train, X_test, Y_test, learning_rate, num_epochs, minibatch_size, print_cost, is_plot)\u001b[0m\n\u001b[0;32m     37\u001b[0m             \u001b[0mplt\u001b[0m\u001b[1;33m.\u001b[0m\u001b[0mshow\u001b[0m\u001b[1;33m(\u001b[0m\u001b[1;33m)\u001b[0m\u001b[1;33m\u001b[0m\u001b[1;33m\u001b[0m\u001b[0m\n\u001b[0;32m     38\u001b[0m          \u001b[1;31m#保存学习后的参数\u001b[0m\u001b[1;33m\u001b[0m\u001b[1;33m\u001b[0m\u001b[1;33m\u001b[0m\u001b[0m\n\u001b[1;32m---> 39\u001b[1;33m         \u001b[0mparameters\u001b[0m \u001b[1;33m=\u001b[0m \u001b[0msession\u001b[0m\u001b[1;33m.\u001b[0m\u001b[0mrun\u001b[0m\u001b[1;33m(\u001b[0m\u001b[0mparameters\u001b[0m\u001b[1;33m)\u001b[0m\u001b[1;33m\u001b[0m\u001b[1;33m\u001b[0m\u001b[0m\n\u001b[0m\u001b[0;32m     40\u001b[0m         \u001b[0mprint\u001b[0m\u001b[1;33m(\u001b[0m\u001b[1;34m\"参数已经保存到session。\"\u001b[0m\u001b[1;33m)\u001b[0m\u001b[1;33m\u001b[0m\u001b[1;33m\u001b[0m\u001b[0m\n\u001b[0;32m     41\u001b[0m \u001b[1;33m\u001b[0m\u001b[0m\n",
      "\u001b[1;31mUnboundLocalError\u001b[0m: local variable 'parameters' referenced before assignment"
     ]
    }
   ],
   "source": [
    "X_train_orig , Y_train_orig , X_test_orig , Y_test_orig , classes = tf_utils.load_dataset()\n",
    "\n",
    "X_train_flatten = X_train_orig.reshape(X_train_orig.shape[0],-1).T #每一列就是一个样本\n",
    "X_test_flatten = X_test_orig.reshape(X_test_orig.shape[0],-1).T\n",
    "\n",
    "#归一化数据\n",
    "X_train = X_train_flatten / 255\n",
    "X_test = X_test_flatten / 255\n",
    "\n",
    "#转换为独热矩阵\n",
    "Y_train = tf_utils.convert_to_one_hot(Y_train_orig,6)\n",
    "Y_test = tf_utils.convert_to_one_hot(Y_test_orig,6)\n",
    "print(Y_train)\n",
    "#开始时间\n",
    "start_time = time.clock()\n",
    "#开始训练\n",
    "parameters = model(X_train, Y_train, X_test, Y_test)\n",
    "#结束时间\n",
    "end_time = time.clock()\n",
    "#计算时差\n",
    "print(\"CPU的执行时间 = \" + str(end_time - start_time) + \" 秒\" )"
   ]
  }
 ],
 "metadata": {
  "kernelspec": {
   "display_name": "Python 3",
   "language": "python",
   "name": "python3"
  },
  "language_info": {
   "codemirror_mode": {
    "name": "ipython",
    "version": 3
   },
   "file_extension": ".py",
   "mimetype": "text/x-python",
   "name": "python",
   "nbconvert_exporter": "python",
   "pygments_lexer": "ipython3",
   "version": "3.6.8"
  },
  "toc": {
   "base_numbering": 1,
   "nav_menu": {},
   "number_sections": true,
   "sideBar": true,
   "skip_h1_title": false,
   "title_cell": "Table of Contents",
   "title_sidebar": "Contents",
   "toc_cell": false,
   "toc_position": {},
   "toc_section_display": true,
   "toc_window_display": false
  }
 },
 "nbformat": 4,
 "nbformat_minor": 2
}
