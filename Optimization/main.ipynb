{
 "cells": [
  {
   "cell_type": "code",
   "execution_count": 4,
   "metadata": {},
   "outputs": [],
   "source": [
    "import numpy as np\n",
    "import matplotlib.pyplot as plt\n",
    "import scipy.io\n",
    "import math\n",
    "import sklearn\n",
    "import sklearn.datasets\n",
    "import opt_utils\n",
    "import testCase\n",
    "\n",
    "plt.rcParams['figure.figsize'] = (7.0, 4.0) # set default size of plots\n",
    "plt.rcParams['image.interpolation'] = 'nearest'\n",
    "plt.rcParams['image.cmap'] = 'gray'\n"
   ]
  },
  {
   "cell_type": "code",
   "execution_count": 5,
   "metadata": {},
   "outputs": [],
   "source": [
    "def update_parameters_with_gd(parameters,grads,learning_rate):\n",
    "    L=len(parameters)//2\n",
    "    for l in range(L):\n",
    "        parameters[\"W\"+str(l+1)]=parameters[\"W\"+str(l+1)]-learning_rate*grads[\"dW\"+str(l+1)]\n",
    "        parameters[\"b\"+str(l+1)]=parameters[\"b\"+str(l+1)]-learning_rate*grads[\"db\"+str(l+1)]\n",
    "    return parameters"
   ]
  },
  {
   "cell_type": "code",
   "execution_count": 7,
   "metadata": {},
   "outputs": [
    {
     "name": "stdout",
     "output_type": "stream",
     "text": [
      "[7, 0, 9, 6, 4, 1, 8, 5, 3, 2]\n"
     ]
    }
   ],
   "source": [
    "def initialize_velocity(parameters):\n",
    "    L=len(parameters)//2\n",
    "    v={}\n",
    "    for l in range(L):\n",
    "        v[\"dW\"+str(l+1)]=np.zeros_like(parameters[\"W\"+str(l+1)])\n",
    "        v[\"db\"+str(l+1)]=np.zeros_like(parameters[\"b\"+str(l+1)])\n",
    "    return v\n",
    "def update_parameters_with_momentun(parameters,grads,v,beta,learning_rate):\n",
    "    L=len(parameters)//2\n",
    "    for l in range(L):\n",
    "        v[\"dW\"+str(l+1)]=beta*v[\"dW\"+str(l+1)]+(1-beta)*grads[\"dW\"+str(l+1)]\n",
    "        v[\"db\"+str(l+1)]=beta*v[\"db\"+str(l+1)]+(1-beta)*grads[\"db\"+str(l+1)]\n",
    "        parameters[\"W\"+str(l+1)]=parameters[\"W\"+str(l+1)]-learning_rate*v[\"dW\"+str(l+1)]\n",
    "        parameters[\"b\"+str(l+1)]=parameters[\"b\"+str(l+1)]-learning_rate*v[\"db\"+str(l+1)]\n",
    "    return parameters,v"
   ]
  },
  {
   "cell_type": "code",
   "execution_count": null,
   "metadata": {},
   "outputs": [],
   "source": []
  }
 ],
 "metadata": {
  "kernelspec": {
   "display_name": "Python 3",
   "language": "python",
   "name": "python3"
  },
  "language_info": {
   "codemirror_mode": {
    "name": "ipython",
    "version": 3
   },
   "file_extension": ".py",
   "mimetype": "text/x-python",
   "name": "python",
   "nbconvert_exporter": "python",
   "pygments_lexer": "ipython3",
   "version": "3.7.2"
  },
  "toc": {
   "base_numbering": 1,
   "nav_menu": {},
   "number_sections": true,
   "sideBar": true,
   "skip_h1_title": false,
   "title_cell": "Table of Contents",
   "title_sidebar": "Contents",
   "toc_cell": false,
   "toc_position": {},
   "toc_section_display": true,
   "toc_window_display": false
  }
 },
 "nbformat": 4,
 "nbformat_minor": 2
}
